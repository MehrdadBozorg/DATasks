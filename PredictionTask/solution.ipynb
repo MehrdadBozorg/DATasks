{
 "cells": [
  {
   "cell_type": "markdown",
   "metadata": {},
   "source": [
    "# Data Analysis Task for Classification and Association Rule\n"
   ]
  },
  {
   "cell_type": "markdown",
   "metadata": {},
   "source": [
    "__Implemented by:__ _Mehrdad Bozorg_"
   ]
  },
  {
   "cell_type": "markdown",
   "metadata": {},
   "source": [
    "### 1- Part one: predict label for new entry "
   ]
  },
  {
   "cell_type": "markdown",
   "metadata": {},
   "source": [
    "__Problem definition:__ To build a data driven model that reads input variables (defined by the 9 features listed above), which characterize a new customer and predicts his response."
   ]
  },
  {
   "cell_type": "markdown",
   "metadata": {},
   "source": [
    "__Aproach:__ Supervised Learning <br>\n",
    "__Chosen Algorithm:__ ensemble random forest <br>\n",
    "__Programming Environment:__ Python3 <br>\n",
    "__Libraries:__ pandas (to read and preapare data), Numpy (to do numerical operations over data), sklearn (to run algorihm ensemble random forest), pyplot (to draw graphs)\n"
   ]
  },
  {
   "cell_type": "markdown",
   "metadata": {},
   "source": [
    "__Step 1: Data preparation__ <br>\n",
    "To do any analysis over data, it's neccessary to read data and prepare it in a format which is most suitable for our method of analysis. To reach this goal, I used library _pandas_ to get data in a dataframe to use it as tabular data."
   ]
  },
  {
   "cell_type": "code",
   "execution_count": 1,
   "metadata": {},
   "outputs": [],
   "source": [
    "import pandas as pd\n",
    "import numpy as np\n",
    "import warnings\n",
    "warnings.filterwarnings('ignore') # Just to mute warnings, if you like you can comment this line."
   ]
  },
  {
   "cell_type": "code",
   "execution_count": 2,
   "metadata": {},
   "outputs": [
    {
     "data": {
      "text/html": [
       "<div>\n",
       "<style scoped>\n",
       "    .dataframe tbody tr th:only-of-type {\n",
       "        vertical-align: middle;\n",
       "    }\n",
       "\n",
       "    .dataframe tbody tr th {\n",
       "        vertical-align: top;\n",
       "    }\n",
       "\n",
       "    .dataframe thead th {\n",
       "        text-align: right;\n",
       "    }\n",
       "</style>\n",
       "<table border=\"1\" class=\"dataframe\">\n",
       "  <thead>\n",
       "    <tr style=\"text-align: right;\">\n",
       "      <th></th>\n",
       "      <th>name</th>\n",
       "      <th>age</th>\n",
       "      <th>lifestyle</th>\n",
       "      <th>zip code</th>\n",
       "      <th>family status</th>\n",
       "      <th>car</th>\n",
       "      <th>sports</th>\n",
       "      <th>earnings</th>\n",
       "      <th>label</th>\n",
       "      <th>Living area</th>\n",
       "    </tr>\n",
       "  </thead>\n",
       "  <tbody>\n",
       "    <tr>\n",
       "      <th>0</th>\n",
       "      <td>VnSEFOuL</td>\n",
       "      <td>62.0</td>\n",
       "      <td>cozily</td>\n",
       "      <td>50168.0</td>\n",
       "      <td>married</td>\n",
       "      <td>practical</td>\n",
       "      <td>athletics</td>\n",
       "      <td>102526.0</td>\n",
       "      <td>no response</td>\n",
       "      <td>urban</td>\n",
       "    </tr>\n",
       "    <tr>\n",
       "      <th>1</th>\n",
       "      <td>8Tv0hcce</td>\n",
       "      <td>34.0</td>\n",
       "      <td>active</td>\n",
       "      <td>66479.0</td>\n",
       "      <td>married</td>\n",
       "      <td>expensive</td>\n",
       "      <td>soccer</td>\n",
       "      <td>33006.0</td>\n",
       "      <td>no response</td>\n",
       "      <td>urban</td>\n",
       "    </tr>\n",
       "    <tr>\n",
       "      <th>2</th>\n",
       "      <td>Zny9ysbk</td>\n",
       "      <td>69.0</td>\n",
       "      <td>healthy</td>\n",
       "      <td>16592.0</td>\n",
       "      <td>single</td>\n",
       "      <td>expensive</td>\n",
       "      <td>badminton</td>\n",
       "      <td>118760.0</td>\n",
       "      <td>response</td>\n",
       "      <td>urban</td>\n",
       "    </tr>\n",
       "    <tr>\n",
       "      <th>3</th>\n",
       "      <td>HV3xCamM</td>\n",
       "      <td>57.0</td>\n",
       "      <td>cozily</td>\n",
       "      <td>50068.0</td>\n",
       "      <td>married</td>\n",
       "      <td>practical</td>\n",
       "      <td>soccer</td>\n",
       "      <td>131429.0</td>\n",
       "      <td>response</td>\n",
       "      <td>urban</td>\n",
       "    </tr>\n",
       "    <tr>\n",
       "      <th>4</th>\n",
       "      <td>sflRsQ6v</td>\n",
       "      <td>66.0</td>\n",
       "      <td>cozily</td>\n",
       "      <td>35988.0</td>\n",
       "      <td>single</td>\n",
       "      <td>practical</td>\n",
       "      <td>badminton</td>\n",
       "      <td>96003.0</td>\n",
       "      <td>response</td>\n",
       "      <td>urban</td>\n",
       "    </tr>\n",
       "  </tbody>\n",
       "</table>\n",
       "</div>"
      ],
      "text/plain": [
       "       name   age lifestyle  zip code family status        car     sports  \\\n",
       "0  VnSEFOuL  62.0    cozily   50168.0       married  practical  athletics   \n",
       "1  8Tv0hcce  34.0    active   66479.0       married  expensive     soccer   \n",
       "2  Zny9ysbk  69.0   healthy   16592.0        single  expensive  badminton   \n",
       "3  HV3xCamM  57.0    cozily   50068.0       married  practical     soccer   \n",
       "4  sflRsQ6v  66.0    cozily   35988.0        single  practical  badminton   \n",
       "\n",
       "   earnings        label Living area  \n",
       "0  102526.0  no response       urban  \n",
       "1   33006.0  no response       urban  \n",
       "2  118760.0     response       urban  \n",
       "3  131429.0     response       urban  \n",
       "4   96003.0     response       urban  "
      ]
     },
     "execution_count": 2,
     "metadata": {},
     "output_type": "execute_result"
    }
   ],
   "source": [
    "df = pd.read_csv('InputData.csv')\n",
    "df.head() #To see the format of data and being sure that data is taken successfully.\n",
    "\n"
   ]
  },
  {
   "cell_type": "code",
   "execution_count": 10,
   "metadata": {},
   "outputs": [
    {
     "data": {
      "text/plain": [
       "Index(['name', 'age', 'lifestyle', 'zip code', 'family status', 'car',\n",
       "       'sports', 'earnings', 'label', 'Living area'],\n",
       "      dtype='object')"
      ]
     },
     "execution_count": 10,
     "metadata": {},
     "output_type": "execute_result"
    }
   ],
   "source": [
    "df.columns"
   ]
  },
  {
   "cell_type": "code",
   "execution_count": 11,
   "metadata": {},
   "outputs": [
    {
     "data": {
      "text/html": [
       "<div>\n",
       "<style scoped>\n",
       "    .dataframe tbody tr th:only-of-type {\n",
       "        vertical-align: middle;\n",
       "    }\n",
       "\n",
       "    .dataframe tbody tr th {\n",
       "        vertical-align: top;\n",
       "    }\n",
       "\n",
       "    .dataframe thead th {\n",
       "        text-align: right;\n",
       "    }\n",
       "</style>\n",
       "<table border=\"1\" class=\"dataframe\">\n",
       "  <thead>\n",
       "    <tr style=\"text-align: right;\">\n",
       "      <th></th>\n",
       "      <th>age</th>\n",
       "      <th>zip code</th>\n",
       "      <th>earnings</th>\n",
       "    </tr>\n",
       "  </thead>\n",
       "  <tbody>\n",
       "    <tr>\n",
       "      <th>count</th>\n",
       "      <td>10000.000000</td>\n",
       "      <td>10000.000000</td>\n",
       "      <td>10000.000000</td>\n",
       "    </tr>\n",
       "    <tr>\n",
       "      <th>mean</th>\n",
       "      <td>42.090700</td>\n",
       "      <td>55227.270600</td>\n",
       "      <td>85337.799600</td>\n",
       "    </tr>\n",
       "    <tr>\n",
       "      <th>std</th>\n",
       "      <td>15.874416</td>\n",
       "      <td>26139.756227</td>\n",
       "      <td>37554.523323</td>\n",
       "    </tr>\n",
       "    <tr>\n",
       "      <th>min</th>\n",
       "      <td>15.000000</td>\n",
       "      <td>10003.000000</td>\n",
       "      <td>20006.000000</td>\n",
       "    </tr>\n",
       "    <tr>\n",
       "      <th>25%</th>\n",
       "      <td>28.000000</td>\n",
       "      <td>32708.250000</td>\n",
       "      <td>53237.250000</td>\n",
       "    </tr>\n",
       "    <tr>\n",
       "      <th>50%</th>\n",
       "      <td>42.000000</td>\n",
       "      <td>55290.000000</td>\n",
       "      <td>85617.500000</td>\n",
       "    </tr>\n",
       "    <tr>\n",
       "      <th>75%</th>\n",
       "      <td>56.000000</td>\n",
       "      <td>77967.750000</td>\n",
       "      <td>118111.000000</td>\n",
       "    </tr>\n",
       "    <tr>\n",
       "      <th>max</th>\n",
       "      <td>69.000000</td>\n",
       "      <td>99982.000000</td>\n",
       "      <td>149975.000000</td>\n",
       "    </tr>\n",
       "  </tbody>\n",
       "</table>\n",
       "</div>"
      ],
      "text/plain": [
       "                age      zip code       earnings\n",
       "count  10000.000000  10000.000000   10000.000000\n",
       "mean      42.090700  55227.270600   85337.799600\n",
       "std       15.874416  26139.756227   37554.523323\n",
       "min       15.000000  10003.000000   20006.000000\n",
       "25%       28.000000  32708.250000   53237.250000\n",
       "50%       42.000000  55290.000000   85617.500000\n",
       "75%       56.000000  77967.750000  118111.000000\n",
       "max       69.000000  99982.000000  149975.000000"
      ]
     },
     "execution_count": 11,
     "metadata": {},
     "output_type": "execute_result"
    }
   ],
   "source": [
    "df.describe()"
   ]
  },
  {
   "cell_type": "markdown",
   "metadata": {},
   "source": [
    "To run decision tree (or random forest) algorithm over the data, we need to convert string values of categorical columns to numeric as below, for columns _lifestyle_, _family status_, _car_, _sports_, _living area_, and _label_:"
   ]
  },
  {
   "cell_type": "code",
   "execution_count": 6,
   "metadata": {},
   "outputs": [
    {
     "name": "stdout",
     "output_type": "stream",
     "text": [
      "<class 'pandas.core.frame.DataFrame'>\n",
      "RangeIndex: 10000 entries, 0 to 9999\n",
      "Data columns (total 10 columns):\n",
      "name             10000 non-null object\n",
      "age              10000 non-null float64\n",
      "lifestyle        10000 non-null object\n",
      "zip code         10000 non-null float64\n",
      "family status    10000 non-null object\n",
      "car              10000 non-null object\n",
      "sports           8500 non-null object\n",
      "earnings         10000 non-null float64\n",
      "label            10000 non-null object\n",
      "Living area      10000 non-null object\n",
      "dtypes: float64(3), object(7)\n",
      "memory usage: 781.3+ KB\n"
     ]
    }
   ],
   "source": [
    "df.info()"
   ]
  },
  {
   "cell_type": "code",
   "execution_count": 7,
   "metadata": {},
   "outputs": [
    {
     "data": {
      "text/html": [
       "<div>\n",
       "<style scoped>\n",
       "    .dataframe tbody tr th:only-of-type {\n",
       "        vertical-align: middle;\n",
       "    }\n",
       "\n",
       "    .dataframe tbody tr th {\n",
       "        vertical-align: top;\n",
       "    }\n",
       "\n",
       "    .dataframe thead th {\n",
       "        text-align: right;\n",
       "    }\n",
       "</style>\n",
       "<table border=\"1\" class=\"dataframe\">\n",
       "  <thead>\n",
       "    <tr style=\"text-align: right;\">\n",
       "      <th></th>\n",
       "      <th>name</th>\n",
       "      <th>lifestyle</th>\n",
       "      <th>family status</th>\n",
       "      <th>car</th>\n",
       "      <th>sports</th>\n",
       "      <th>label</th>\n",
       "      <th>Living area</th>\n",
       "    </tr>\n",
       "  </thead>\n",
       "  <tbody>\n",
       "    <tr>\n",
       "      <th>count</th>\n",
       "      <td>10000</td>\n",
       "      <td>10000</td>\n",
       "      <td>10000</td>\n",
       "      <td>10000</td>\n",
       "      <td>8500</td>\n",
       "      <td>10000</td>\n",
       "      <td>10000</td>\n",
       "    </tr>\n",
       "    <tr>\n",
       "      <th>unique</th>\n",
       "      <td>10000</td>\n",
       "      <td>3</td>\n",
       "      <td>2</td>\n",
       "      <td>2</td>\n",
       "      <td>3</td>\n",
       "      <td>2</td>\n",
       "      <td>2</td>\n",
       "    </tr>\n",
       "    <tr>\n",
       "      <th>top</th>\n",
       "      <td>NmxWBagh</td>\n",
       "      <td>active</td>\n",
       "      <td>married</td>\n",
       "      <td>practical</td>\n",
       "      <td>athletics</td>\n",
       "      <td>no response</td>\n",
       "      <td>urban</td>\n",
       "    </tr>\n",
       "    <tr>\n",
       "      <th>freq</th>\n",
       "      <td>1</td>\n",
       "      <td>3375</td>\n",
       "      <td>5032</td>\n",
       "      <td>5051</td>\n",
       "      <td>2853</td>\n",
       "      <td>6640</td>\n",
       "      <td>6300</td>\n",
       "    </tr>\n",
       "  </tbody>\n",
       "</table>\n",
       "</div>"
      ],
      "text/plain": [
       "            name lifestyle family status        car     sports        label  \\\n",
       "count      10000     10000         10000      10000       8500        10000   \n",
       "unique     10000         3             2          2          3            2   \n",
       "top     NmxWBagh    active       married  practical  athletics  no response   \n",
       "freq           1      3375          5032       5051       2853         6640   \n",
       "\n",
       "       Living area  \n",
       "count        10000  \n",
       "unique           2  \n",
       "top          urban  \n",
       "freq          6300  "
      ]
     },
     "execution_count": 7,
     "metadata": {},
     "output_type": "execute_result"
    }
   ],
   "source": [
    "df.describe(include =['object'])"
   ]
  },
  {
   "cell_type": "code",
   "execution_count": 13,
   "metadata": {},
   "outputs": [
    {
     "data": {
      "text/plain": [
       "no response    6640\n",
       "response       3360\n",
       "Name: label, dtype: int64"
      ]
     },
     "execution_count": 13,
     "metadata": {},
     "output_type": "execute_result"
    }
   ],
   "source": [
    "df['label'].value_counts()"
   ]
  },
  {
   "cell_type": "code",
   "execution_count": 14,
   "metadata": {},
   "outputs": [
    {
     "data": {
      "text/plain": [
       "no response    0.664\n",
       "response       0.336\n",
       "Name: label, dtype: float64"
      ]
     },
     "execution_count": 14,
     "metadata": {},
     "output_type": "execute_result"
    }
   ],
   "source": [
    "df['label'].value_counts(normalize=True)"
   ]
  },
  {
   "cell_type": "code",
   "execution_count": 15,
   "metadata": {},
   "outputs": [
    {
     "data": {
      "text/html": [
       "<div>\n",
       "<style scoped>\n",
       "    .dataframe tbody tr th:only-of-type {\n",
       "        vertical-align: middle;\n",
       "    }\n",
       "\n",
       "    .dataframe tbody tr th {\n",
       "        vertical-align: top;\n",
       "    }\n",
       "\n",
       "    .dataframe thead th {\n",
       "        text-align: right;\n",
       "    }\n",
       "</style>\n",
       "<table border=\"1\" class=\"dataframe\">\n",
       "  <thead>\n",
       "    <tr style=\"text-align: right;\">\n",
       "      <th></th>\n",
       "      <th>name</th>\n",
       "      <th>age</th>\n",
       "      <th>lifestyle</th>\n",
       "      <th>zip code</th>\n",
       "      <th>family status</th>\n",
       "      <th>car</th>\n",
       "      <th>sports</th>\n",
       "      <th>earnings</th>\n",
       "      <th>label</th>\n",
       "      <th>Living area</th>\n",
       "    </tr>\n",
       "  </thead>\n",
       "  <tbody>\n",
       "    <tr>\n",
       "      <th>9999</th>\n",
       "      <td>eBED7EpQ</td>\n",
       "      <td>69.0</td>\n",
       "      <td>healthy</td>\n",
       "      <td>90816.0</td>\n",
       "      <td>single</td>\n",
       "      <td>practical</td>\n",
       "      <td>athletics</td>\n",
       "      <td>149683.0</td>\n",
       "      <td>response</td>\n",
       "      <td>rural</td>\n",
       "    </tr>\n",
       "    <tr>\n",
       "      <th>7087</th>\n",
       "      <td>kvgjcp6s</td>\n",
       "      <td>69.0</td>\n",
       "      <td>healthy</td>\n",
       "      <td>83256.0</td>\n",
       "      <td>single</td>\n",
       "      <td>practical</td>\n",
       "      <td>NaN</td>\n",
       "      <td>129255.0</td>\n",
       "      <td>response</td>\n",
       "      <td>rural</td>\n",
       "    </tr>\n",
       "    <tr>\n",
       "      <th>3535</th>\n",
       "      <td>dbUuQVOR</td>\n",
       "      <td>69.0</td>\n",
       "      <td>cozily</td>\n",
       "      <td>22679.0</td>\n",
       "      <td>single</td>\n",
       "      <td>expensive</td>\n",
       "      <td>soccer</td>\n",
       "      <td>28724.0</td>\n",
       "      <td>response</td>\n",
       "      <td>urban</td>\n",
       "    </tr>\n",
       "    <tr>\n",
       "      <th>421</th>\n",
       "      <td>MGusCNUD</td>\n",
       "      <td>69.0</td>\n",
       "      <td>active</td>\n",
       "      <td>85790.0</td>\n",
       "      <td>married</td>\n",
       "      <td>expensive</td>\n",
       "      <td>badminton</td>\n",
       "      <td>94639.0</td>\n",
       "      <td>response</td>\n",
       "      <td>urban</td>\n",
       "    </tr>\n",
       "    <tr>\n",
       "      <th>7676</th>\n",
       "      <td>vcpupoGs</td>\n",
       "      <td>69.0</td>\n",
       "      <td>healthy</td>\n",
       "      <td>21295.0</td>\n",
       "      <td>single</td>\n",
       "      <td>practical</td>\n",
       "      <td>badminton</td>\n",
       "      <td>66150.0</td>\n",
       "      <td>response</td>\n",
       "      <td>rural</td>\n",
       "    </tr>\n",
       "  </tbody>\n",
       "</table>\n",
       "</div>"
      ],
      "text/plain": [
       "          name   age lifestyle  zip code family status        car     sports  \\\n",
       "9999  eBED7EpQ  69.0   healthy   90816.0        single  practical  athletics   \n",
       "7087  kvgjcp6s  69.0   healthy   83256.0        single  practical        NaN   \n",
       "3535  dbUuQVOR  69.0    cozily   22679.0        single  expensive     soccer   \n",
       "421   MGusCNUD  69.0    active   85790.0       married  expensive  badminton   \n",
       "7676  vcpupoGs  69.0   healthy   21295.0        single  practical  badminton   \n",
       "\n",
       "      earnings     label Living area  \n",
       "9999  149683.0  response       rural  \n",
       "7087  129255.0  response       rural  \n",
       "3535   28724.0  response       urban  \n",
       "421    94639.0  response       urban  \n",
       "7676   66150.0  response       rural  "
      ]
     },
     "execution_count": 15,
     "metadata": {},
     "output_type": "execute_result"
    }
   ],
   "source": [
    "df.sort_values(by='age', ascending=False).head()"
   ]
  },
  {
   "cell_type": "code",
   "execution_count": 16,
   "metadata": {},
   "outputs": [
    {
     "data": {
      "text/html": [
       "<div>\n",
       "<style scoped>\n",
       "    .dataframe tbody tr th:only-of-type {\n",
       "        vertical-align: middle;\n",
       "    }\n",
       "\n",
       "    .dataframe tbody tr th {\n",
       "        vertical-align: top;\n",
       "    }\n",
       "\n",
       "    .dataframe thead th {\n",
       "        text-align: right;\n",
       "    }\n",
       "</style>\n",
       "<table border=\"1\" class=\"dataframe\">\n",
       "  <thead>\n",
       "    <tr style=\"text-align: right;\">\n",
       "      <th></th>\n",
       "      <th>name</th>\n",
       "      <th>age</th>\n",
       "      <th>lifestyle</th>\n",
       "      <th>zip code</th>\n",
       "      <th>family status</th>\n",
       "      <th>car</th>\n",
       "      <th>sports</th>\n",
       "      <th>earnings</th>\n",
       "      <th>label</th>\n",
       "      <th>Living area</th>\n",
       "    </tr>\n",
       "  </thead>\n",
       "  <tbody>\n",
       "    <tr>\n",
       "      <th>452</th>\n",
       "      <td>kieZCleC</td>\n",
       "      <td>15.0</td>\n",
       "      <td>active</td>\n",
       "      <td>42692.0</td>\n",
       "      <td>single</td>\n",
       "      <td>practical</td>\n",
       "      <td>soccer</td>\n",
       "      <td>148014.0</td>\n",
       "      <td>response</td>\n",
       "      <td>urban</td>\n",
       "    </tr>\n",
       "    <tr>\n",
       "      <th>6944</th>\n",
       "      <td>2oGAOcQ5</td>\n",
       "      <td>15.0</td>\n",
       "      <td>healthy</td>\n",
       "      <td>25102.0</td>\n",
       "      <td>married</td>\n",
       "      <td>practical</td>\n",
       "      <td>badminton</td>\n",
       "      <td>147751.0</td>\n",
       "      <td>response</td>\n",
       "      <td>urban</td>\n",
       "    </tr>\n",
       "    <tr>\n",
       "      <th>3759</th>\n",
       "      <td>12K3EOBX</td>\n",
       "      <td>15.0</td>\n",
       "      <td>active</td>\n",
       "      <td>46842.0</td>\n",
       "      <td>married</td>\n",
       "      <td>expensive</td>\n",
       "      <td>athletics</td>\n",
       "      <td>147361.0</td>\n",
       "      <td>response</td>\n",
       "      <td>rural</td>\n",
       "    </tr>\n",
       "    <tr>\n",
       "      <th>990</th>\n",
       "      <td>DriRExfl</td>\n",
       "      <td>15.0</td>\n",
       "      <td>cozily</td>\n",
       "      <td>21490.0</td>\n",
       "      <td>married</td>\n",
       "      <td>expensive</td>\n",
       "      <td>NaN</td>\n",
       "      <td>145400.0</td>\n",
       "      <td>response</td>\n",
       "      <td>urban</td>\n",
       "    </tr>\n",
       "    <tr>\n",
       "      <th>2074</th>\n",
       "      <td>BAnHCGzE</td>\n",
       "      <td>15.0</td>\n",
       "      <td>cozily</td>\n",
       "      <td>74617.0</td>\n",
       "      <td>single</td>\n",
       "      <td>practical</td>\n",
       "      <td>soccer</td>\n",
       "      <td>145184.0</td>\n",
       "      <td>response</td>\n",
       "      <td>urban</td>\n",
       "    </tr>\n",
       "  </tbody>\n",
       "</table>\n",
       "</div>"
      ],
      "text/plain": [
       "          name   age lifestyle  zip code family status        car     sports  \\\n",
       "452   kieZCleC  15.0    active   42692.0        single  practical     soccer   \n",
       "6944  2oGAOcQ5  15.0   healthy   25102.0       married  practical  badminton   \n",
       "3759  12K3EOBX  15.0    active   46842.0       married  expensive  athletics   \n",
       "990   DriRExfl  15.0    cozily   21490.0       married  expensive        NaN   \n",
       "2074  BAnHCGzE  15.0    cozily   74617.0        single  practical     soccer   \n",
       "\n",
       "      earnings     label Living area  \n",
       "452   148014.0  response       urban  \n",
       "6944  147751.0  response       urban  \n",
       "3759  147361.0  response       rural  \n",
       "990   145400.0  response       urban  \n",
       "2074  145184.0  response       urban  "
      ]
     },
     "execution_count": 16,
     "metadata": {},
     "output_type": "execute_result"
    }
   ],
   "source": [
    "df.sort_values(by=['age', 'earnings'],\n",
    "        ascending=[True, False]).head()"
   ]
  },
  {
   "cell_type": "code",
   "execution_count": 3,
   "metadata": {},
   "outputs": [
    {
     "data": {
      "text/plain": [
       "(10000, 10)"
      ]
     },
     "execution_count": 3,
     "metadata": {},
     "output_type": "execute_result"
    }
   ],
   "source": [
    "df['lifestyle'] = pd.factorize(df['lifestyle'])[0]\n",
    "df['family status'] = pd.factorize(df['family status'])[0]\n",
    "df['car'] = pd.factorize(df['car'])[0]\n",
    "df['sports'] = pd.factorize(df['sports'])[0]\n",
    "df['Living area'] = pd.factorize(df['Living area'])[0]\n",
    "df['label'] = pd.factorize(df['label'])[0]"
   ]
  },
  {
   "cell_type": "markdown",
   "metadata": {},
   "source": [
    "Then we get column label as y or our result (output):"
   ]
  },
  {
   "cell_type": "code",
   "execution_count": 4,
   "metadata": {},
   "outputs": [],
   "source": [
    "y = df['label']"
   ]
  },
  {
   "cell_type": "markdown",
   "metadata": {},
   "source": [
    "To prepare X or train data, we need first remove output and also we need to remove column name. As name is kind of identifier for each row of our dataset, it's much possible to be unique for each row. And so in calculation of it's enthropy we get the maximum value, but with low ratio which is misleading. To handle this problem there are to options:<br>\n",
    "1- Apply ratio for each feature befor selection, which is not preferable as it needs to do some extra calculation and as we are prety much sure that after application the ratio, the result for name would be close to zero ($1/1000$), so we don't do it. <br>\n",
    "2- Remove it from dataset, because we know it wouldn't be chosen as indexing feature and as features are assumed relatively independent, we can remove it without any significant effect on our result. <br>\n",
    "I did this operation as below:"
   ]
  },
  {
   "cell_type": "code",
   "execution_count": 5,
   "metadata": {},
   "outputs": [],
   "source": [
    "df.drop(['name', 'label'], axis=1, inplace=True)"
   ]
  },
  {
   "cell_type": "markdown",
   "metadata": {},
   "source": [
    "And the shape of data would be as below:"
   ]
  },
  {
   "cell_type": "code",
   "execution_count": 6,
   "metadata": {},
   "outputs": [
    {
     "data": {
      "text/html": [
       "<div>\n",
       "<style scoped>\n",
       "    .dataframe tbody tr th:only-of-type {\n",
       "        vertical-align: middle;\n",
       "    }\n",
       "\n",
       "    .dataframe tbody tr th {\n",
       "        vertical-align: top;\n",
       "    }\n",
       "\n",
       "    .dataframe thead th {\n",
       "        text-align: right;\n",
       "    }\n",
       "</style>\n",
       "<table border=\"1\" class=\"dataframe\">\n",
       "  <thead>\n",
       "    <tr style=\"text-align: right;\">\n",
       "      <th></th>\n",
       "      <th>age</th>\n",
       "      <th>lifestyle</th>\n",
       "      <th>zip code</th>\n",
       "      <th>family status</th>\n",
       "      <th>car</th>\n",
       "      <th>sports</th>\n",
       "      <th>earnings</th>\n",
       "      <th>Living area</th>\n",
       "    </tr>\n",
       "  </thead>\n",
       "  <tbody>\n",
       "    <tr>\n",
       "      <th>0</th>\n",
       "      <td>62.0</td>\n",
       "      <td>0</td>\n",
       "      <td>50168.0</td>\n",
       "      <td>0</td>\n",
       "      <td>0</td>\n",
       "      <td>0</td>\n",
       "      <td>102526.0</td>\n",
       "      <td>0</td>\n",
       "    </tr>\n",
       "    <tr>\n",
       "      <th>1</th>\n",
       "      <td>34.0</td>\n",
       "      <td>1</td>\n",
       "      <td>66479.0</td>\n",
       "      <td>0</td>\n",
       "      <td>1</td>\n",
       "      <td>1</td>\n",
       "      <td>33006.0</td>\n",
       "      <td>0</td>\n",
       "    </tr>\n",
       "    <tr>\n",
       "      <th>2</th>\n",
       "      <td>69.0</td>\n",
       "      <td>2</td>\n",
       "      <td>16592.0</td>\n",
       "      <td>1</td>\n",
       "      <td>1</td>\n",
       "      <td>2</td>\n",
       "      <td>118760.0</td>\n",
       "      <td>0</td>\n",
       "    </tr>\n",
       "    <tr>\n",
       "      <th>3</th>\n",
       "      <td>57.0</td>\n",
       "      <td>0</td>\n",
       "      <td>50068.0</td>\n",
       "      <td>0</td>\n",
       "      <td>0</td>\n",
       "      <td>1</td>\n",
       "      <td>131429.0</td>\n",
       "      <td>0</td>\n",
       "    </tr>\n",
       "    <tr>\n",
       "      <th>4</th>\n",
       "      <td>66.0</td>\n",
       "      <td>0</td>\n",
       "      <td>35988.0</td>\n",
       "      <td>1</td>\n",
       "      <td>0</td>\n",
       "      <td>2</td>\n",
       "      <td>96003.0</td>\n",
       "      <td>0</td>\n",
       "    </tr>\n",
       "  </tbody>\n",
       "</table>\n",
       "</div>"
      ],
      "text/plain": [
       "    age  lifestyle  zip code  family status  car  sports  earnings  \\\n",
       "0  62.0          0   50168.0              0    0       0  102526.0   \n",
       "1  34.0          1   66479.0              0    1       1   33006.0   \n",
       "2  69.0          2   16592.0              1    1       2  118760.0   \n",
       "3  57.0          0   50068.0              0    0       1  131429.0   \n",
       "4  66.0          0   35988.0              1    0       2   96003.0   \n",
       "\n",
       "   Living area  \n",
       "0            0  \n",
       "1            0  \n",
       "2            0  \n",
       "3            0  \n",
       "4            0  "
      ]
     },
     "execution_count": 6,
     "metadata": {},
     "output_type": "execute_result"
    }
   ],
   "source": [
    "df.head()"
   ]
  },
  {
   "cell_type": "code",
   "execution_count": 7,
   "metadata": {},
   "outputs": [],
   "source": [
    "X = df.copy() #Just for convenience in naming"
   ]
  },
  {
   "cell_type": "markdown",
   "metadata": {},
   "source": [
    "__Step 2: Run the algorithm__ <br>\n",
    "To run ensemble random forest algorithm, I got benefit of library sklearn, and from that imported: <br> \n",
    "- `RandomForestClassifier` to do classification prediction. <br>\n",
    "- `cross_val_score` to do cross validation \n",
    "- `GridSearchCV` to find best parameters using gird search method. <br>\n",
    "- `accuracy_score` to call accuracy metric and calculate."
   ]
  },
  {
   "cell_type": "code",
   "execution_count": 8,
   "metadata": {},
   "outputs": [],
   "source": [
    "from sklearn.model_selection import cross_val_score, StratifiedKFold, GridSearchCV\n",
    "from sklearn.metrics import accuracy_score\n",
    "from sklearn.ensemble import RandomForestClassifier"
   ]
  },
  {
   "cell_type": "markdown",
   "metadata": {},
   "source": [
    "Run the algorithm without any improvement on parameters, here `n_splits` shows the proportion of train and test data in crossvalidation, `shuffle` indicates randomizing with seed value of 42 which is indicated with arg `random_state`:"
   ]
  },
  {
   "cell_type": "code",
   "execution_count": 9,
   "metadata": {},
   "outputs": [
    {
     "name": "stdout",
     "output_type": "stream",
     "text": [
      "CV accuracy score: 91.12%\n"
     ]
    }
   ],
   "source": [
    "# Initialize a stratified split of our dataset for the validation process\n",
    "skf = StratifiedKFold(n_splits=5, shuffle=True, random_state=42)\n",
    "\n",
    "# Initialize the classifier with the default parameters \n",
    "rfc = RandomForestClassifier(random_state=42, n_jobs=-1, oob_score=True)\n",
    "\n",
    "# Train it on the training set\n",
    "results = cross_val_score(rfc, X, y, cv=skf)\n",
    "\n",
    "# Evaluate the accuracy on the test set\n",
    "print(\"CV accuracy score: {:.2f}%\".format(results.mean()*100))"
   ]
  },
  {
   "cell_type": "markdown",
   "metadata": {},
   "source": [
    "We get the accuracy of 91.12%."
   ]
  },
  {
   "cell_type": "markdown",
   "metadata": {},
   "source": [
    "__Step3: Find the hyper parameters__ <br>\n",
    "Among all the parameters of Random Forest Classifier, the most segnificant which may cause improvement on the accuracy or prevent overfitting are as following: <br>\n",
    "\n",
    "- `n_estimators` — the number of trees in the forest;\n",
    "- `criterion` — the function used to measure the quality of a split (enthropy or gini_impurity);\n",
    "- `max_features` — the number of features to consider when looking for the best split;\n",
    "- `min_samples_leaf` — the minimum number of samples required to be at a leaf node;\n",
    "- `max_depth` — the maximum depth of the tree."
   ]
  },
  {
   "cell_type": "markdown",
   "metadata": {},
   "source": [
    "To find the best suiting parameters we can apply grid search manualy or call function `GridSearchCV` from library GridSearchCV with folowing set of values to check from: <br>\n",
    "- `max_features`: [4, 6, 8]\n",
    "- `min_samples_leaf`: [1, 3, 5, 7] \n",
    "- `max_depth`: [5,10,15,20]"
   ]
  },
  {
   "cell_type": "code",
   "execution_count": 11,
   "metadata": {},
   "outputs": [
    {
     "name": "stdout",
     "output_type": "stream",
     "text": [
      "Fitting 5 folds for each of 48 candidates, totalling 240 fits\n"
     ]
    },
    {
     "name": "stderr",
     "output_type": "stream",
     "text": [
      "[Parallel(n_jobs=-1)]: Using backend LokyBackend with 4 concurrent workers.\n",
      "[Parallel(n_jobs=-1)]: Done  42 tasks      | elapsed:   12.2s\n",
      "[Parallel(n_jobs=-1)]: Done 192 tasks      | elapsed:  1.5min\n",
      "[Parallel(n_jobs=-1)]: Done 240 out of 240 | elapsed:  1.9min finished\n"
     ]
    },
    {
     "data": {
      "text/plain": [
       "GridSearchCV(cv=StratifiedKFold(n_splits=5, random_state=42, shuffle=True),\n",
       "       error_score='raise-deprecating',\n",
       "       estimator=RandomForestClassifier(bootstrap=True, class_weight=None, criterion='gini',\n",
       "            max_depth=None, max_features='auto', max_leaf_nodes=None,\n",
       "            min_impurity_decrease=0.0, min_impurity_split=None,\n",
       "            min_samples_leaf=1, min_samples_split=2,\n",
       "            min_weight_fraction_leaf=0.0, n_estimators=75, n_jobs=-1,\n",
       "            oob_score=True, random_state=42, verbose=0, warm_start=False),\n",
       "       fit_params=None, iid='warn', n_jobs=-1,\n",
       "       param_grid={'max_features': [4, 6, 8], 'min_samples_leaf': [1, 3, 5, 7], 'max_depth': [5, 10, 15, 20]},\n",
       "       pre_dispatch='2*n_jobs', refit=True, return_train_score='warn',\n",
       "       scoring=None, verbose=1)"
      ]
     },
     "execution_count": 11,
     "metadata": {},
     "output_type": "execute_result"
    }
   ],
   "source": [
    "# Initialize the set of parameters for exhaustive search and fit \n",
    "parameters = {'max_features': [4, 6, 8], 'min_samples_leaf': [1, 3, 5, 7], 'max_depth': [5,10,15,20]}\n",
    "rfc = RandomForestClassifier(n_estimators=75, random_state=42, \n",
    "                             n_jobs=-1, oob_score=True)\n",
    "gcv = GridSearchCV(rfc, parameters, n_jobs=-1, cv=skf, verbose=1)\n",
    "gcv.fit(X, y)"
   ]
  },
  {
   "cell_type": "markdown",
   "metadata": {},
   "source": [
    "By application of these parameter in `RandomForestClassifier`, we get the accuracy 92.07%."
   ]
  },
  {
   "cell_type": "code",
   "execution_count": 14,
   "metadata": {},
   "outputs": [
    {
     "name": "stdout",
     "output_type": "stream",
     "text": [
      "CV accuracy score: 92.07%\n"
     ]
    }
   ],
   "source": [
    "# Initialize a stratified split of our dataset for the validation process\n",
    "skf = StratifiedKFold(n_splits=5, shuffle=True, random_state=42)\n",
    "\n",
    "# Initialize the classifier with the default parameters \n",
    "rfc = RandomForestClassifier(bootstrap=True, class_weight=None, criterion='gini',\n",
    "             max_depth=5, max_features=4, max_leaf_nodes=None,\n",
    "             min_impurity_decrease=0.0, min_impurity_split=None,\n",
    "             min_samples_leaf=1, min_samples_split=2,\n",
    "             min_weight_fraction_leaf=0.0, n_estimators=75, n_jobs=-1,\n",
    "             oob_score=True, random_state=42, verbose=0, warm_start=False)\n",
    "\n",
    "# Train it on the training set\n",
    "results = cross_val_score(rfc, X, y, cv=skf)\n",
    "\n",
    "# Evaluate the accuracy on the test set\n",
    "print(\"CV accuracy score: {:.2f}%\".format(results.mean()*100))"
   ]
  },
  {
   "cell_type": "markdown",
   "metadata": {},
   "source": [
    "__Step 4:Prediction__ <br>\n",
    "To do prediction for our entry we need to convert the values to numeric as what our predict function could get. I did it as following:"
   ]
  },
  {
   "cell_type": "code",
   "execution_count": 91,
   "metadata": {},
   "outputs": [],
   "source": [
    "def convert_entry(entry):\n",
    "    new_ent = entry[1:] # Eliminate name\n",
    "    \n",
    "    # lifestyle\n",
    "    if entry[1] == 'cozily':\n",
    "        new_ent[1] = 0\n",
    "    elif entry[1] == 'active':\n",
    "        new_ent[1] = 1\n",
    "    else:\n",
    "        new_ent[1] =2\n",
    "        \n",
    "    # family status\n",
    "    if entry[3] == 'married':\n",
    "        new_ent[3] = 0\n",
    "    else:\n",
    "        new_ent[3] = 1\n",
    "        \n",
    "    #car\n",
    "    if entry[4] == 'practical':\n",
    "        new_ent[4] = 0\n",
    "    else:\n",
    "        new_ent[4] = 1\n",
    "        \n",
    "    # sports\n",
    "    if entry[5] == 'athletics':\n",
    "        new_ent[5] = 0\n",
    "    elif entry[5] == 'soccer':\n",
    "        new_ent[5] = 1\n",
    "    elif entry[5] == 'badminton':\n",
    "        new_ent[5] = 2\n",
    "    else:\n",
    "        new_ent[5] = 3\n",
    "    \n",
    "    #Living area\n",
    "    if entry[7] == 'urban':\n",
    "        new_ent[7] = 0\n",
    "    else:\n",
    "        new_ent[7] = 1\n",
    "        \n",
    "    return new_ent"
   ]
  },
  {
   "cell_type": "code",
   "execution_count": 92,
   "metadata": {},
   "outputs": [],
   "source": [
    "entry = ['name', 65.0, 'cozily', 50723, 'single', 'expensive', 'soccer', 132526, 'rural'] #examplary entry\n"
   ]
  },
  {
   "cell_type": "code",
   "execution_count": 95,
   "metadata": {},
   "outputs": [
    {
     "name": "stdout",
     "output_type": "stream",
     "text": [
      "[1]\n"
     ]
    }
   ],
   "source": [
    "rfc.fit(X, y)\n",
    "print(rfc.predict([convert_entry(entry)]))"
   ]
  },
  {
   "cell_type": "markdown",
   "metadata": {},
   "source": [
    "__Some observations:__ <br> To see the effect of parameters and this regularization with grid search, I included a manual checking the effect of some parameters which is depicted by their following graphs. <br>\n",
    "__Note:__ I used library `pyplot` to draw graphs."
   ]
  },
  {
   "cell_type": "markdown",
   "metadata": {},
   "source": [
    "1- Parameter `n_estimators` (number of trees):"
   ]
  },
  {
   "cell_type": "code",
   "execution_count": 96,
   "metadata": {},
   "outputs": [
    {
     "name": "stdout",
     "output_type": "stream",
     "text": [
      "Best accuracy on CV is 91.95% with 75 trees\n"
     ]
    },
    {
     "data": {
      "image/png": "[encoded data removed]",
      "text/plain": [
       "<Figure size 576x288 with 1 Axes>"
      ]
     },
     "metadata": {},
     "output_type": "display_data"
    }
   ],
   "source": [
    "# Initialize the validation\n",
    "skf = StratifiedKFold(n_splits=5, shuffle=True, random_state=42)\n",
    "\n",
    "# Create lists to save the values of accuracy on training and test sets\n",
    "train_acc = []\n",
    "test_acc = []\n",
    "temp_train_acc = []\n",
    "temp_test_acc = []\n",
    "trees_grid = [5, 10, 15, 20, 30, 50, 75, 100]\n",
    "\n",
    "# Train on the training set\n",
    "for ntrees in trees_grid:\n",
    "    rfc = RandomForestClassifier(n_estimators=ntrees, random_state=42, n_jobs=-1, oob_score=True)\n",
    "    temp_train_acc = []\n",
    "    temp_test_acc = []\n",
    "    for train_index, test_index in skf.split(X, y):\n",
    "        X_train, X_test = X.iloc[train_index], X.iloc[test_index]\n",
    "        y_train, y_test = y[train_index], y[test_index]\n",
    "        rfc.fit(X_train, y_train)\n",
    "        temp_train_acc.append(rfc.score(X_train, y_train))\n",
    "        temp_test_acc.append(rfc.score(X_test, y_test))\n",
    "    train_acc.append(temp_train_acc)\n",
    "    test_acc.append(temp_test_acc)\n",
    "    \n",
    "train_acc, test_acc = np.asarray(train_acc), np.asarray(test_acc)\n",
    "print(\"Best accuracy on CV is {:.2f}% with {} trees\".format(max(test_acc.mean(axis=1))*100, \n",
    "                                                        trees_grid[np.argmax(test_acc.mean(axis=1))]))\n",
    "\n",
    "plt.style.use('ggplot')\n",
    "\n",
    "fig, ax = plt.subplots(figsize=(8, 4))\n",
    "ax.plot(trees_grid, train_acc.mean(axis=1), alpha=0.5, color='blue', label='train')\n",
    "ax.plot(trees_grid, test_acc.mean(axis=1), alpha=0.5, color='red', label='cv')\n",
    "ax.fill_between(trees_grid, test_acc.mean(axis=1) - test_acc.std(axis=1), test_acc.mean(axis=1) + test_acc.std(axis=1), color='#888888', alpha=0.4)\n",
    "ax.fill_between(trees_grid, test_acc.mean(axis=1) - 2*test_acc.std(axis=1), test_acc.mean(axis=1) + 2*test_acc.std(axis=1), color='#888888', alpha=0.2)\n",
    "ax.legend(loc='best')\n",
    "ax.set_ylim([0.88,1.02])\n",
    "ax.set_ylabel(\"Accuracy\")\n",
    "ax.set_xlabel(\"N_estimators\");"
   ]
  },
  {
   "cell_type": "markdown",
   "metadata": {},
   "source": [
    "The best accuracy is 91.95% which is obtained with 75 trees, which is improved in comparision to default values. However, the train data tends to overfit.\n"
   ]
  },
  {
   "cell_type": "markdown",
   "metadata": {},
   "source": [
    "2- Parameter `max_depth`:"
   ]
  },
  {
   "cell_type": "code",
   "execution_count": 97,
   "metadata": {},
   "outputs": [
    {
     "name": "stdout",
     "output_type": "stream",
     "text": [
      "Best accuracy on CV is 92.06% with 5 max_depth\n"
     ]
    },
    {
     "data": {
      "image/png": "[encoded data removed]",
      "text/plain": [
       "<Figure size 576x288 with 1 Axes>"
      ]
     },
     "metadata": {},
     "output_type": "display_data"
    }
   ],
   "source": [
    "# Create lists to save accuracy values on the training and test sets\n",
    "train_acc = []\n",
    "test_acc = []\n",
    "temp_train_acc = []\n",
    "temp_test_acc = []\n",
    "max_depth_grid = [3, 5, 7, 9, 11, 13, 15, 17, 20, 22, 24]\n",
    "\n",
    "# Train on the training set \n",
    "for max_depth in max_depth_grid:\n",
    "    rfc = RandomForestClassifier(n_estimators=50, random_state=42, n_jobs=-1, oob_score=True, max_depth=max_depth)\n",
    "    temp_train_acc = []\n",
    "    temp_test_acc = []\n",
    "    for train_index, test_index in skf.split(X, y):\n",
    "        X_train, X_test = X.iloc[train_index], X.iloc[test_index]\n",
    "        y_train, y_test = y[train_index], y[test_index]\n",
    "        rfc.fit(X_train, y_train)\n",
    "        temp_train_acc.append(rfc.score(X_train, y_train))\n",
    "        temp_test_acc.append(rfc.score(X_test, y_test))\n",
    "    train_acc.append(temp_train_acc)\n",
    "    test_acc.append(temp_test_acc)\n",
    "    \n",
    "train_acc, test_acc = np.asarray(train_acc), np.asarray(test_acc)\n",
    "print(\"Best accuracy on CV is {:.2f}% with {} max_depth\".format(max(test_acc.mean(axis=1))*100, \n",
    "                                                        max_depth_grid[np.argmax(test_acc.mean(axis=1))]))\n",
    "\n",
    "fig, ax = plt.subplots(figsize=(8, 4))\n",
    "ax.plot(max_depth_grid, train_acc.mean(axis=1), alpha=0.5, color='blue', label='train')\n",
    "ax.plot(max_depth_grid, test_acc.mean(axis=1), alpha=0.5, color='red', label='cv')\n",
    "ax.fill_between(max_depth_grid, test_acc.mean(axis=1) - test_acc.std(axis=1), test_acc.mean(axis=1) + test_acc.std(axis=1), color='#888888', alpha=0.4)\n",
    "ax.fill_between(max_depth_grid, test_acc.mean(axis=1) - 2*test_acc.std(axis=1), test_acc.mean(axis=1) + 2*test_acc.std(axis=1), color='#888888', alpha=0.2)\n",
    "ax.legend(loc='best')\n",
    "ax.set_ylim([0.88,1.02])\n",
    "ax.set_ylabel(\"Accuracy\")\n",
    "ax.set_xlabel(\"Max_depth\");"
   ]
  },
  {
   "cell_type": "markdown",
   "metadata": {},
   "source": [
    "The best accuracy is 92.06% which is obtained with maximum depth 0f 5. And we could decrease the tendency to overfiting."
   ]
  },
  {
   "cell_type": "markdown",
   "metadata": {},
   "source": [
    "3- Parameter `min_samples_leaf`:"
   ]
  },
  {
   "cell_type": "code",
   "execution_count": 98,
   "metadata": {},
   "outputs": [
    {
     "name": "stdout",
     "output_type": "stream",
     "text": [
      "Best accuracy on CV is 92.08% with 9 min_samples_leaf\n"
     ]
    },
    {
     "data": {
      "image/png": "[encoded data removed]",
      "text/plain": [
       "<Figure size 576x288 with 1 Axes>"
      ]
     },
     "metadata": {},
     "output_type": "display_data"
    }
   ],
   "source": [
    "from matplotlib import pyplot as plt\n",
    "# Create lists to save accuracy values on the training and test sets\n",
    "train_acc = []\n",
    "test_acc = []\n",
    "temp_train_acc = []\n",
    "temp_test_acc = []\n",
    "min_samples_leaf_grid = [1, 3, 5, 7, 9, 11, 13, 15, 17, 20, 22, 24]\n",
    "\n",
    "# Train on the training set\n",
    "for min_samples_leaf in min_samples_leaf_grid:\n",
    "    rfc = RandomForestClassifier(n_estimators=100, random_state=42, n_jobs=-1, \n",
    "                                 oob_score=True, min_samples_leaf=min_samples_leaf)\n",
    "    temp_train_acc = []\n",
    "    temp_test_acc = []\n",
    "    for train_index, test_index in skf.split(X, y):\n",
    "        X_train, X_test = X.iloc[train_index], X.iloc[test_index]\n",
    "        y_train, y_test = y[train_index], y[test_index]\n",
    "        rfc.fit(X_train, y_train)\n",
    "        temp_train_acc.append(rfc.score(X_train, y_train))\n",
    "        temp_test_acc.append(rfc.score(X_test, y_test))\n",
    "    train_acc.append(temp_train_acc)\n",
    "    test_acc.append(temp_test_acc)\n",
    "    \n",
    "train_acc, test_acc = np.asarray(train_acc), np.asarray(test_acc)\n",
    "print(\"Best accuracy on CV is {:.2f}% with {} min_samples_leaf\".format(max(test_acc.mean(axis=1))*100, \n",
    "                                                        min_samples_leaf_grid[np.argmax(test_acc.mean(axis=1))]))\n",
    "fig, ax = plt.subplots(figsize=(8, 4))\n",
    "ax.plot(min_samples_leaf_grid, train_acc.mean(axis=1), alpha=0.5, color='blue', label='train')\n",
    "ax.plot(min_samples_leaf_grid, test_acc.mean(axis=1), alpha=0.5, color='red', label='cv')\n",
    "ax.fill_between(min_samples_leaf_grid, test_acc.mean(axis=1) - test_acc.std(axis=1), test_acc.mean(axis=1) + test_acc.std(axis=1), color='#888888', alpha=0.4)\n",
    "ax.fill_between(min_samples_leaf_grid, test_acc.mean(axis=1) - 2*test_acc.std(axis=1), test_acc.mean(axis=1) + 2*test_acc.std(axis=1), color='#888888', alpha=0.2)\n",
    "ax.legend(loc='best')\n",
    "ax.set_ylim([0.88,1.02])\n",
    "ax.set_ylabel(\"Accuracy\")\n",
    "ax.set_xlabel(\"Min_samples_leaf\");"
   ]
  },
  {
   "cell_type": "markdown",
   "metadata": {},
   "source": [
    "The best accuracy is 92.08% which is obtained with min samples leaf of 9. And as can be seen the train accuracy is decreased, which means we could overcome the overfiting. "
   ]
  },
  {
   "cell_type": "markdown",
   "metadata": {},
   "source": [
    "__Note:__\n",
    "This algorithm is chosen, because it is more confident to be regularized and with slightly better performance rather than decision tree with less than 1%. However, it much outperforms the other classifiers such as Deep Learning which get us accuracy score of 53.28% with 16.07% of deviation and Linear regression with 63% of accuracy. Which this result for deep learning is likey because of the low dimention and size of data and for the regression could be because of categorial fields. <br> \n",
    "You can find the code of decision tree with the file named `solution_dt.ipynb` and its tree with the file name `solution_tree.png` in the root path. Also the code for deep learning with keras library is also included which is named `solution_ann_keras.ipynb` as well, the regression code is available with the name `solution_reg.ipynb`. "
   ]
  },
  {
   "cell_type": "markdown",
   "metadata": {},
   "source": [
    "### 2- Part two: Discovering the best environment"
   ]
  },
  {
   "cell_type": "markdown",
   "metadata": {},
   "source": [
    "__Problem definition:__ To build a data driven model that reads input variables (defined by the 9 features listed above), which characterize a new customer and predicts his response."
   ]
  },
  {
   "cell_type": "markdown",
   "metadata": {},
   "source": [
    "__Aproach:__ Supervised Learning <br>\n",
    "__Chosen Algorithm:__ Eclat <br>\n",
    "__Programming Environment:__ Python3 <br>\n",
    "__Libraries:__ pandas (to read and preapare data), fim (to call eclat algorithm from it)\n"
   ]
  },
  {
   "cell_type": "markdown",
   "metadata": {},
   "source": [
    "__Step1: Data Preparation__ <br>\n",
    "After getting data, to prepare it for Eclat, we need to categorize all columns to find the frequency of each set of items (here features with specific categorial value) which consquent the label \"respnse\". <br>\n",
    "This problem mapped on the first step of algorithms for \"association rule discovery\", which we need to find frequent sets with specific length threshold (instead of frequency threshold). <br>\n",
    "To compare with association rule discovery problem, in solving problem of finding rules like $X \\to Y$, here we have the $Y$, so we don't need to do the second step of the algorithm to find most satisfying rules among the frequnt subset candidates. But, as we know the consequent item, we just need to find the most satisfying frequent subsets in subdomain of specific value for consequenct value (which is 'response' here). <br>\n",
    "So we need to just get the entries with label 'response', which is done as following:"
   ]
  },
  {
   "cell_type": "code",
   "execution_count": 99,
   "metadata": {},
   "outputs": [
    {
     "data": {
      "text/html": [
       "<div>\n",
       "<style scoped>\n",
       "    .dataframe tbody tr th:only-of-type {\n",
       "        vertical-align: middle;\n",
       "    }\n",
       "\n",
       "    .dataframe tbody tr th {\n",
       "        vertical-align: top;\n",
       "    }\n",
       "\n",
       "    .dataframe thead th {\n",
       "        text-align: right;\n",
       "    }\n",
       "</style>\n",
       "<table border=\"1\" class=\"dataframe\">\n",
       "  <thead>\n",
       "    <tr style=\"text-align: right;\">\n",
       "      <th></th>\n",
       "      <th>1</th>\n",
       "      <th>2</th>\n",
       "      <th>3</th>\n",
       "      <th>4</th>\n",
       "      <th>5</th>\n",
       "      <th>6</th>\n",
       "      <th>7</th>\n",
       "      <th>9</th>\n",
       "    </tr>\n",
       "  </thead>\n",
       "  <tbody>\n",
       "    <tr>\n",
       "      <th>3</th>\n",
       "      <td>69.0</td>\n",
       "      <td>healthy</td>\n",
       "      <td>16592.0</td>\n",
       "      <td>single</td>\n",
       "      <td>expensive</td>\n",
       "      <td>badminton</td>\n",
       "      <td>118760.0</td>\n",
       "      <td>urban</td>\n",
       "    </tr>\n",
       "    <tr>\n",
       "      <th>4</th>\n",
       "      <td>57.0</td>\n",
       "      <td>cozily</td>\n",
       "      <td>50068.0</td>\n",
       "      <td>married</td>\n",
       "      <td>practical</td>\n",
       "      <td>soccer</td>\n",
       "      <td>131429.0</td>\n",
       "      <td>urban</td>\n",
       "    </tr>\n",
       "    <tr>\n",
       "      <th>5</th>\n",
       "      <td>66.0</td>\n",
       "      <td>cozily</td>\n",
       "      <td>35988.0</td>\n",
       "      <td>single</td>\n",
       "      <td>practical</td>\n",
       "      <td>badminton</td>\n",
       "      <td>96003.0</td>\n",
       "      <td>urban</td>\n",
       "    </tr>\n",
       "    <tr>\n",
       "      <th>8</th>\n",
       "      <td>59.0</td>\n",
       "      <td>cozily</td>\n",
       "      <td>40432.0</td>\n",
       "      <td>single</td>\n",
       "      <td>practical</td>\n",
       "      <td>soccer</td>\n",
       "      <td>41166.0</td>\n",
       "      <td>urban</td>\n",
       "    </tr>\n",
       "    <tr>\n",
       "      <th>9</th>\n",
       "      <td>63.0</td>\n",
       "      <td>active</td>\n",
       "      <td>55994.0</td>\n",
       "      <td>single</td>\n",
       "      <td>practical</td>\n",
       "      <td>badminton</td>\n",
       "      <td>134340.0</td>\n",
       "      <td>urban</td>\n",
       "    </tr>\n",
       "  </tbody>\n",
       "</table>\n",
       "</div>"
      ],
      "text/plain": [
       "      1        2        3        4          5          6         7      9\n",
       "3  69.0  healthy  16592.0   single  expensive  badminton  118760.0  urban\n",
       "4  57.0   cozily  50068.0  married  practical     soccer  131429.0  urban\n",
       "5  66.0   cozily  35988.0   single  practical  badminton   96003.0  urban\n",
       "8  59.0   cozily  40432.0   single  practical     soccer   41166.0  urban\n",
       "9  63.0   active  55994.0   single  practical  badminton  134340.0  urban"
      ]
     },
     "execution_count": 99,
     "metadata": {},
     "output_type": "execute_result"
    }
   ],
   "source": [
    "import pandas as pd\n",
    "df = pd.read_csv('InputData.csv', header=None )\n",
    "df = df[df[8]== 'response']\n",
    "df.drop([0, 8], axis=1, inplace=True)\n",
    "df.head()"
   ]
  },
  {
   "cell_type": "markdown",
   "metadata": {},
   "source": [
    "And to categorize the continual columns:"
   ]
  },
  {
   "cell_type": "code",
   "execution_count": 100,
   "metadata": {},
   "outputs": [],
   "source": [
    "def categorize(id, cat_num, cat_label):\n",
    "    max_val = pd.to_numeric(df.iloc[:,id]).max()\n",
    "    min_val = pd.to_numeric(df.iloc[:,id]).min()\n",
    "    val_range = max_val - min_val\n",
    "    sec_len = val_range / cat_num\n",
    "    \n",
    "    for i in range(len(df.iloc[:,id])):    \n",
    "        if float(df.iloc[i,id]) < min_val + sec_len:\n",
    "            df.iloc[i,id] = cat_label + \"_1\"\n",
    "        elif min_val + sec_len<= float(df.iloc[i,id]) and float(df.iloc[i,id]) < min_val + 2*sec_len:\n",
    "            df.iloc[i,id] = cat_label + \"_2\"\n",
    "        elif min_val + 2*sec_len <= float(df.iloc[i,id]) and float(df.iloc[i,id]) < min_val + 3*sec_len:\n",
    "            df.iloc[i,id] = cat_label + \"_3\"\n",
    "        elif min_val + 3*sec_len <= float(df.iloc[i,id]) and float(df.iloc[i,id]) < min_val + 4*sec_len:\n",
    "            df.iloc[i,id] = cat_label + \"_4\"\n",
    "        elif min_val + 4*sec_len <= float(df.iloc[i,id]) and float(df.iloc[i,id]) <= max_val:\n",
    "            df.iloc[i,id] = cat_label + \"_5\"\n",
    "\n"
   ]
  },
  {
   "cell_type": "code",
   "execution_count": 101,
   "metadata": {},
   "outputs": [],
   "source": [
    "categorize(0, 5, 'age')\n",
    "categorize(2, 5, 'postal')\n",
    "categorize(6, 5, 'earning')"
   ]
  },
  {
   "cell_type": "markdown",
   "metadata": {},
   "source": [
    "And to solve the problem of blank cells in sports column, I chose to fill them with the value 'empty' as a new category (what is automatically done in most of algorithm such as some default states of decision tree).<br>\n",
    "However, if we have some domain specific information, we cand fill these cells with values like median, which may have malicious effect on our results in this case."
   ]
  },
  {
   "cell_type": "code",
   "execution_count": 102,
   "metadata": {},
   "outputs": [],
   "source": [
    "def fill_blanks(id):\n",
    "    for i in range(len(df.iloc[:,id])):\n",
    "        if pd.isnull(df.iloc[i,id]):\n",
    "            df.iloc[i,id] = 'empty'\n",
    "fill_blanks(5)"
   ]
  },
  {
   "cell_type": "markdown",
   "metadata": {},
   "source": [
    "And the final data could be like following:"
   ]
  },
  {
   "cell_type": "code",
   "execution_count": 103,
   "metadata": {},
   "outputs": [
    {
     "data": {
      "text/html": [
       "<div>\n",
       "<style scoped>\n",
       "    .dataframe tbody tr th:only-of-type {\n",
       "        vertical-align: middle;\n",
       "    }\n",
       "\n",
       "    .dataframe tbody tr th {\n",
       "        vertical-align: top;\n",
       "    }\n",
       "\n",
       "    .dataframe thead th {\n",
       "        text-align: right;\n",
       "    }\n",
       "</style>\n",
       "<table border=\"1\" class=\"dataframe\">\n",
       "  <thead>\n",
       "    <tr style=\"text-align: right;\">\n",
       "      <th></th>\n",
       "      <th>1</th>\n",
       "      <th>2</th>\n",
       "      <th>3</th>\n",
       "      <th>4</th>\n",
       "      <th>5</th>\n",
       "      <th>6</th>\n",
       "      <th>7</th>\n",
       "      <th>9</th>\n",
       "    </tr>\n",
       "  </thead>\n",
       "  <tbody>\n",
       "    <tr>\n",
       "      <th>3</th>\n",
       "      <td>age_5</td>\n",
       "      <td>healthy</td>\n",
       "      <td>postal_1</td>\n",
       "      <td>single</td>\n",
       "      <td>expensive</td>\n",
       "      <td>badminton</td>\n",
       "      <td>earning_4</td>\n",
       "      <td>urban</td>\n",
       "    </tr>\n",
       "    <tr>\n",
       "      <th>4</th>\n",
       "      <td>age_4</td>\n",
       "      <td>cozily</td>\n",
       "      <td>postal_3</td>\n",
       "      <td>married</td>\n",
       "      <td>practical</td>\n",
       "      <td>soccer</td>\n",
       "      <td>earning_5</td>\n",
       "      <td>urban</td>\n",
       "    </tr>\n",
       "    <tr>\n",
       "      <th>5</th>\n",
       "      <td>age_5</td>\n",
       "      <td>cozily</td>\n",
       "      <td>postal_2</td>\n",
       "      <td>single</td>\n",
       "      <td>practical</td>\n",
       "      <td>badminton</td>\n",
       "      <td>earning_3</td>\n",
       "      <td>urban</td>\n",
       "    </tr>\n",
       "    <tr>\n",
       "      <th>8</th>\n",
       "      <td>age_5</td>\n",
       "      <td>cozily</td>\n",
       "      <td>postal_2</td>\n",
       "      <td>single</td>\n",
       "      <td>practical</td>\n",
       "      <td>soccer</td>\n",
       "      <td>earning_1</td>\n",
       "      <td>urban</td>\n",
       "    </tr>\n",
       "    <tr>\n",
       "      <th>9</th>\n",
       "      <td>age_5</td>\n",
       "      <td>active</td>\n",
       "      <td>postal_3</td>\n",
       "      <td>single</td>\n",
       "      <td>practical</td>\n",
       "      <td>badminton</td>\n",
       "      <td>earning_5</td>\n",
       "      <td>urban</td>\n",
       "    </tr>\n",
       "  </tbody>\n",
       "</table>\n",
       "</div>"
      ],
      "text/plain": [
       "       1        2         3        4          5          6          7      9\n",
       "3  age_5  healthy  postal_1   single  expensive  badminton  earning_4  urban\n",
       "4  age_4   cozily  postal_3  married  practical     soccer  earning_5  urban\n",
       "5  age_5   cozily  postal_2   single  practical  badminton  earning_3  urban\n",
       "8  age_5   cozily  postal_2   single  practical     soccer  earning_1  urban\n",
       "9  age_5   active  postal_3   single  practical  badminton  earning_5  urban"
      ]
     },
     "execution_count": 103,
     "metadata": {},
     "output_type": "execute_result"
    }
   ],
   "source": [
    "df.head()"
   ]
  },
  {
   "cell_type": "markdown",
   "metadata": {},
   "source": [
    "__Step2:Run the algorithm__<br> Finally to run the algorithm we need to call function `elcat` from library `fim` as following:"
   ]
  },
  {
   "cell_type": "code",
   "execution_count": 104,
   "metadata": {},
   "outputs": [
    {
     "name": "stdout",
     "output_type": "stream",
     "text": [
      "[(('expensive', 'single', 'urban'), 4560), (('single', 'age_5', 'urban'), 4520), (('practical', 'age_5', 'urban'), 4368), (('expensive', 'age_5', 'urban'), 4360), (('married', 'practical', 'urban'), 4280), (('married', 'age_5', 'urban'), 4208), (('practical', 'single', 'urban'), 4128), (('married', 'expensive', 'urban'), 3920), (('expensive', 'single', 'age_5'), 3576), (('practical', 'single', 'age_5'), 3520), (('married', 'practical', 'age_5'), 3504), (('married', 'expensive', 'age_5'), 3312), (('healthy', 'single', 'urban'), 2984), (('healthy', 'age_5', 'urban'), 2920), (('active', 'age_5', 'urban'), 2912), (('cozily', 'age_5', 'urban'), 2896), (('earning_5', 'expensive', 'urban'), 2896), (('active', 'single', 'urban'), 2888), (('active', 'practical', 'urban'), 2848), (('cozily', 'expensive', 'urban'), 2840), (('healthy', 'expensive', 'urban'), 2840), (('cozily', 'single', 'urban'), 2816), (('healthy', 'practical', 'urban'), 2808), (('earning_5', 'single', 'urban'), 2808), (('active', 'expensive', 'urban'), 2800), (('cozily', 'married', 'urban'), 2776), (('active', 'married', 'urban'), 2760), (('cozily', 'practical', 'urban'), 2752)]\n"
     ]
    }
   ],
   "source": [
    "from fim import eclat\n",
    "def elcat_func(df):    \n",
    "    n = len(df)\n",
    "    transactions = []\n",
    "    for i in range(0, n):\n",
    "        transaction = []\n",
    "        m = len(df.values[i])\n",
    "        for j in range(0, m):\n",
    "            data = str(df.values[i,j])\n",
    "            if data != \"nan\":\n",
    "                transaction.append(data)\n",
    "                transactions.append(transaction)\n",
    "\n",
    "    rules = eclat(tracts = transactions, zmin = 3)\n",
    "    rules.sort(key = lambda x: x[1], reverse = True)\n",
    "    return rules\n",
    "print(elcat_func(df))"
   ]
  },
  {
   "cell_type": "markdown",
   "metadata": {},
   "source": [
    "__Result:__ As can be seen the urban person with expensive car, who is single, would be more possibly responsive.\n"
   ]
  },
  {
   "cell_type": "code",
   "execution_count": null,
   "metadata": {},
   "outputs": [],
   "source": []
  }
 ],
 "metadata": {
  "kernelspec": {
   "display_name": "Python 3",
   "language": "python",
   "name": "python3"
  },
  "language_info": {
   "codemirror_mode": {
    "name": "ipython",
    "version": 3
   },
   "file_extension": ".py",
   "mimetype": "text/x-python",
   "name": "python",
   "nbconvert_exporter": "python",
   "pygments_lexer": "ipython3",
   "version": "3.7.1"
  }
 },
 "nbformat": 4,
 "nbformat_minor": 2
}
